{
 "cells": [
  {
   "cell_type": "code",
   "execution_count": null,
   "id": "783f084f",
   "metadata": {},
   "outputs": [],
   "source": [
    "# run cellpose 2D "
   ]
  },
  {
   "cell_type": "code",
   "execution_count": null,
   "id": "9e1b6d15",
   "metadata": {},
   "outputs": [],
   "source": [
    "# files IO modula or function\n",
    "import os, shutil, glob\n",
    "# narray manipulation \n",
    "import numpy as np\n",
    "# plot data or image\n",
    "import matplotlib.pyplot as plt\n",
    "# cellpose function\n",
    "from cellpose import core, utils, io, models, metrics\n",
    "# import skimage.io"
   ]
  },
  {
   "cell_type": "code",
   "execution_count": null,
   "id": "8fa8d0e1",
   "metadata": {},
   "outputs": [],
   "source": [
    "# start logger \n",
    "logger = io.logger_setup()"
   ]
  },
  {
   "cell_type": "code",
   "execution_count": null,
   "id": "ef567ba1",
   "metadata": {},
   "outputs": [],
   "source": [
    "# load folder image files\n",
    "Img_folder = \"D:/Project/Segmentation/Counts_colocalize_files/batch_image/all_in_one/20x_image/sorted/20x_image_red/p53\"\n",
    "\n",
    "input_dir = os.path.join(Img_folder,\"\")\n",
    "save_dir = input_dir+\"Segmented_mask/\"\n",
    "if not os.path.exists(save_dir):\n",
    "  os.makedirs(save_dir)\n",
    "else:\n",
    "  print(\"Existing Mask Directory found. Deleting it.\")\n",
    "  shutil.rmtree(save_dir)\n",
    "# import natsorted modula for sort the files from folder\n",
    "from natsort import natsorted \n",
    "# load img files from folder, (ignoring images files ending in _masks)\n",
    "files = io.get_image_files(Img_folder,'_masks')\n",
    "print(files)"
   ]
  },
  {
   "cell_type": "code",
   "execution_count": null,
   "id": "58acceeb",
   "metadata": {},
   "outputs": [],
   "source": [
    "imgs = []\n",
    "# read images\n",
    "for f in files:\n",
    "    im = io.imread(f)\n",
    "    imgs.append(im)\n",
    "nimg = len(imgs)\n",
    "print(\"Num of images loads are:\", nimg)\n"
   ]
  },
  {
   "cell_type": "code",
   "execution_count": null,
   "id": "afc02784",
   "metadata": {},
   "outputs": [],
   "source": [
    "model_type = \"cyto2\"\n",
    "channel =[0,0]\n",
    "Diameter = 20\n",
    "use_GPU = True\n",
    "flow_threshold = 0.4\n",
    "cellprob_threshold = 0.0"
   ]
  },
  {
   "cell_type": "code",
   "execution_count": null,
   "id": "ea8bb6b1",
   "metadata": {},
   "outputs": [],
   "source": [
    "model = models.Cellpose(gpu = use_GPU,model_type = model_type)"
   ]
  },
  {
   "cell_type": "code",
   "execution_count": null,
   "id": "f222c408",
   "metadata": {},
   "outputs": [],
   "source": [
    "for img_idx, img in enumerate(imgs):\n",
    "    file_name = os.path.splitext(os.path.basename(files[img_idx]))[0]\n",
    "    print(\"\\nSegmenting: \", file_name)\n",
    "    mask, flows, styles,diam = model.eval(img, batch_size=8,channels= channel, diameter = Diameter,do_3D=False,\n",
    "                                 cellprob_threshold = cellprob_threshold,flow_threshold = flow_threshold)\n",
    "    # save images in folder with the diameter value used in cellpose\n",
    "    print(\"segmentation complete. saving Masks and flows\")\n",
    "    # output name for masks\n",
    "    mask_output_name = save_dir+\"MASK_\"+ file_name+\".tif\"\n",
    "    mask_fn= file_name+\".tif\"\n",
    "    mask=mask.astype(np.uint16)\n",
    "    io.save_masks(img,mask,flows,file_names=mask_fn,png=False, tif=True, savedir=save_dir,save_txt = False)\n",
    "print(\"the task has been done!\")"
   ]
  }
 ],
 "metadata": {
  "kernelspec": {
   "display_name": "Python [conda env:cellpose]",
   "language": "python",
   "name": "conda-env-cellpose-py"
  },
  "language_info": {
   "codemirror_mode": {
    "name": "ipython",
    "version": 3
   },
   "file_extension": ".py",
   "mimetype": "text/x-python",
   "name": "python",
   "nbconvert_exporter": "python",
   "pygments_lexer": "ipython3",
   "version": "3.9.16"
  }
 },
 "nbformat": 4,
 "nbformat_minor": 5
}
